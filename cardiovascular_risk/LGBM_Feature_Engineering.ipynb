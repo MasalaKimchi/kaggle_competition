{
 "cells": [
  {
   "cell_type": "code",
   "execution_count": 1,
   "id": "0ea0fca9",
   "metadata": {
    "execution": {
     "iopub.execute_input": "2023-12-31T15:12:26.462522Z",
     "iopub.status.busy": "2023-12-31T15:12:26.461559Z",
     "iopub.status.idle": "2023-12-31T15:12:29.577428Z",
     "shell.execute_reply": "2023-12-31T15:12:29.576416Z"
    },
    "papermill": {
     "duration": 3.127658,
     "end_time": "2023-12-31T15:12:29.580093",
     "exception": false,
     "start_time": "2023-12-31T15:12:26.452435",
     "status": "completed"
    },
    "tags": []
   },
   "outputs": [],
   "source": [
    "import pandas as pd\n",
    "import lightgbm as lgb\n",
    "import numpy as np\n",
    "\n",
    "from sklearn.model_selection import GridSearchCV\n",
    "from sklearn.preprocessing import StandardScaler, OneHotEncoder\n",
    "from sklearn.compose import ColumnTransformer\n",
    "\n",
    "from sklearn.model_selection import StratifiedKFold, cross_val_score\n",
    "from sklearn.preprocessing import LabelEncoder\n",
    "\n",
    "import warnings\n",
    "warnings.filterwarnings('ignore')"
   ]
  },
  {
   "cell_type": "markdown",
   "id": "aafba901",
   "metadata": {
    "papermill": {
     "duration": 0.006686,
     "end_time": "2023-12-31T15:12:29.593693",
     "exception": false,
     "start_time": "2023-12-31T15:12:29.587007",
     "status": "completed"
    },
    "tags": []
   },
   "source": [
    "## Load data"
   ]
  },
  {
   "cell_type": "code",
   "execution_count": 2,
   "id": "e313f364",
   "metadata": {
    "execution": {
     "iopub.execute_input": "2023-12-31T15:12:29.609085Z",
     "iopub.status.busy": "2023-12-31T15:12:29.608211Z",
     "iopub.status.idle": "2023-12-31T15:12:29.756544Z",
     "shell.execute_reply": "2023-12-31T15:12:29.755377Z"
    },
    "papermill": {
     "duration": 0.159114,
     "end_time": "2023-12-31T15:12:29.759437",
     "exception": false,
     "start_time": "2023-12-31T15:12:29.600323",
     "status": "completed"
    },
    "tags": []
   },
   "outputs": [],
   "source": [
    "train = pd.read_csv('/kaggle/input/cardiovascular-disease-fall-2023/train.csv')\n",
    "test = pd.read_csv('/kaggle/input/cardiovascular-disease-fall-2023/test.csv')\n",
    "submission = pd.read_csv('/kaggle/input/cardiovascular-disease-fall-2023/sample.csv')"
   ]
  },
  {
   "cell_type": "markdown",
   "id": "666a0042",
   "metadata": {
    "papermill": {
     "duration": 0.006227,
     "end_time": "2023-12-31T15:12:29.772299",
     "exception": false,
     "start_time": "2023-12-31T15:12:29.766072",
     "status": "completed"
    },
    "tags": []
   },
   "source": [
    "## Novel Feature Engineering"
   ]
  },
  {
   "cell_type": "markdown",
   "id": "84e13ace",
   "metadata": {
    "papermill": {
     "duration": 0.006262,
     "end_time": "2023-12-31T15:12:29.785275",
     "exception": false,
     "start_time": "2023-12-31T15:12:29.779013",
     "status": "completed"
    },
    "tags": []
   },
   "source": [
    "#### 1) Hypertension Staging [link](https://www.ncbi.nlm.nih.gov/books/NBK539859/#:~:text=Elevated%3A%20SBP%20120%20to%20129,equal%20to%2090%20mm%20Hg.) \n",
    "\n",
    "#### 2) Interaction terms amongst categorical variables\n",
    "\n",
    "#### 3) Natural log of Ages (due to skewness)\n",
    "\n",
    "#### 4) Interaction term b/w age and blood pressure\n",
    "\n",
    "#### 5) Body Mass Index (Ideas from others)\n",
    "\n",
    "#### (Additionally) Discarding original features"
   ]
  },
  {
   "cell_type": "code",
   "execution_count": 3,
   "id": "2c6cfeac",
   "metadata": {
    "execution": {
     "iopub.execute_input": "2023-12-31T15:12:29.799986Z",
     "iopub.status.busy": "2023-12-31T15:12:29.799572Z",
     "iopub.status.idle": "2023-12-31T15:12:29.815478Z",
     "shell.execute_reply": "2023-12-31T15:12:29.814319Z"
    },
    "papermill": {
     "duration": 0.026053,
     "end_time": "2023-12-31T15:12:29.817728",
     "exception": false,
     "start_time": "2023-12-31T15:12:29.791675",
     "status": "completed"
    },
    "tags": []
   },
   "outputs": [],
   "source": [
    "def hypertension_staging(row):\n",
    "    if row['ap_hi'] < 120 and row['ap_lo'] < 80:\n",
    "        return 0 # for normal group\n",
    "    elif 120 <= row['ap_hi'] < 130 and row['ap_lo'] < 80:\n",
    "        return 1 # for elevated group\n",
    "    elif 130 <= row['ap_hi'] < 140 or 80 <= row['ap_lo'] < 90:\n",
    "        return 2 # for stage 1 Hypertension group\n",
    "    elif row['ap_hi'] >= 140 or row['ap_lo'] >= 90:\n",
    "        return 3 # for stage 2 Hypertension group\n",
    "    else:\n",
    "        return 4 # Severe group\n",
    "\n",
    "def engineer_features(df):\n",
    "    \n",
    "    # Convert number of days into years and apply natural log (ln(Age), yrs)\n",
    "    # Because the age is highly skewed\n",
    "    df[\"ln_age\"] = np.log(df[\"age\"] / 365.0)\n",
    "\n",
    "    # Compute Body-Mass Index (BMI, kg/m^2)\n",
    "    df['bmi'] = df['weight'] / ((df['height'] / 100) ** 2)\n",
    "\n",
    "    # Age and Blood Pressure Interaction Term ()\n",
    "    df['ln_age_bP'] = df['ln_age'] * df['ap_hi']\n",
    "\n",
    "    # Cholesterol and Glucose Interaction Term\n",
    "    df['chol_gluc'] = df['cholesterol'] * df['gluc']\n",
    "\n",
    "    df['alc_smoke'] = df['smoke'] * df['alco']\n",
    "\n",
    "    # Hypertension Stage\n",
    "    df['htn'] = df.apply(hypertension_staging, axis=1)\n",
    "\n",
    "    df['htn_smoke'] = df['htn'] * df['smoke']\n",
    "\n",
    "    return df\n",
    "\n",
    "def drop_original_features(df, features_to_remove=['age', 'weight', 'height', 'smoke', 'alco', 'gluc']):\n",
    "    df = df.drop(columns=features_to_remove, errors='ignore')\n",
    "    return df\n",
    "\n",
    "# Function to extract feature names from OneHotEncoder\n",
    "def get_feature_names(column_transformer, input_features):\n",
    "    feature_names = []\n",
    "\n",
    "    for transformer in column_transformer.transformers_:\n",
    "        trans_name = transformer[0]\n",
    "        trans = transformer[1]\n",
    "        cols = transformer[2]\n",
    "\n",
    "        if trans_name == 'remainder':\n",
    "            # if remainder is a passthrough, we append the feature names directly\n",
    "            if trans == 'passthrough':\n",
    "                feature_names.extend(cols)\n",
    "        elif hasattr(trans, 'get_feature_names_out'):\n",
    "            # if a transformer has 'get_feature_names_out' method, use it\n",
    "            feature_names.extend(trans.get_feature_names_out(cols))\n",
    "        else:\n",
    "            # otherwise, just append the original feature name\n",
    "            feature_names.extend(cols)\n",
    "\n",
    "    return feature_names"
   ]
  },
  {
   "cell_type": "code",
   "execution_count": 4,
   "id": "34ea4e17",
   "metadata": {
    "execution": {
     "iopub.execute_input": "2023-12-31T15:12:29.833329Z",
     "iopub.status.busy": "2023-12-31T15:12:29.832509Z",
     "iopub.status.idle": "2023-12-31T15:12:31.328680Z",
     "shell.execute_reply": "2023-12-31T15:12:31.327449Z"
    },
    "papermill": {
     "duration": 1.507081,
     "end_time": "2023-12-31T15:12:31.331503",
     "exception": false,
     "start_time": "2023-12-31T15:12:29.824422",
     "status": "completed"
    },
    "tags": []
   },
   "outputs": [],
   "source": [
    "train = engineer_features(train)\n",
    "train = drop_original_features(train)\n",
    "\n",
    "# Assuming 'data' is your DataFrame and 'cardio' is the target\n",
    "X = train.drop('cardio', axis=1)\n",
    "y = train['cardio']\n",
    "\n",
    "# Define categorical features\n",
    "categorical_features = ['gender', 'cholesterol', 'active', 'chol_gluc', 'htn', 'htn_smoke', 'alc_smoke']\n",
    "\n",
    "continuous_features = ['ap_hi', 'ap_lo', 'bmi', 'ln_age', 'ln_age_bP']\n",
    "\n",
    "# Create a column transformer with OneHotEncoder for categorical features\n",
    "preprocessor = ColumnTransformer(\n",
    "    transformers=[\n",
    "        ('cat', OneHotEncoder(), categorical_features),\n",
    "        ('cont', StandardScaler(), continuous_features)\n",
    "    ],\n",
    "    remainder='passthrough'  # Apply OneHotEncoder to categorical_features and leave the rest unchanged\n",
    ")\n",
    "\n",
    "# Apply the transformations to the training and validation sets\n",
    "X_train_transformed = preprocessor.fit_transform(X)\n",
    "\n",
    "# Get feature names\n",
    "feature_names = get_feature_names(preprocessor, X.columns)"
   ]
  },
  {
   "cell_type": "markdown",
   "id": "6d40726d",
   "metadata": {
    "papermill": {
     "duration": 0.006196,
     "end_time": "2023-12-31T15:12:31.344615",
     "exception": false,
     "start_time": "2023-12-31T15:12:31.338419",
     "status": "completed"
    },
    "tags": []
   },
   "source": [
    "## Grid Search with Stratified K Fold"
   ]
  },
  {
   "cell_type": "markdown",
   "id": "9d1b9195",
   "metadata": {
    "papermill": {
     "duration": 0.006223,
     "end_time": "2023-12-31T15:12:31.357240",
     "exception": false,
     "start_time": "2023-12-31T15:12:31.351017",
     "status": "completed"
    },
    "tags": []
   },
   "source": [
    "#### To find the best parameter combinations, un-comment below and run it"
   ]
  },
  {
   "cell_type": "code",
   "execution_count": 5,
   "id": "3bb23a59",
   "metadata": {
    "execution": {
     "iopub.execute_input": "2023-12-31T15:12:31.371926Z",
     "iopub.status.busy": "2023-12-31T15:12:31.371532Z",
     "iopub.status.idle": "2023-12-31T15:12:31.376566Z",
     "shell.execute_reply": "2023-12-31T15:12:31.375343Z"
    },
    "papermill": {
     "duration": 0.015262,
     "end_time": "2023-12-31T15:12:31.378856",
     "exception": false,
     "start_time": "2023-12-31T15:12:31.363594",
     "status": "completed"
    },
    "tags": []
   },
   "outputs": [],
   "source": [
    "# param_grid = {\n",
    "#     'num_leaves': [31, 51],\n",
    "#     'min_data_in_leaf': [30, 100, 300],\n",
    "#     'lambda_l1': [0, 0.5],\n",
    "#     'lambda_l2': [0, 0.5]\n",
    "# }\n",
    "\n",
    "# skf = StratifiedKFold(n_splits=5, shuffle=True, random_state=42)\n",
    "\n",
    "# gsearch = GridSearchCV(estimator=lgb.LGBMClassifier(), param_grid=param_grid, \n",
    "#                        scoring='accuracy', cv=skf, verbose=0, n_jobs=-1)\n",
    "\n",
    "# gsearch.fit(X_train_transformed, y)\n",
    "\n",
    "# print(\"Best parameters found: \", gsearch.best_params_)\n",
    "# print(\"Best accuracy found: \", gsearch.best_score_)\n",
    "\n",
    "# best_params = gsearch.best_params_"
   ]
  },
  {
   "cell_type": "markdown",
   "id": "5d50c251",
   "metadata": {
    "papermill": {
     "duration": 0.006392,
     "end_time": "2023-12-31T15:12:31.391913",
     "exception": false,
     "start_time": "2023-12-31T15:12:31.385521",
     "status": "completed"
    },
    "tags": []
   },
   "source": [
    "#### Best parameters are provided directly here "
   ]
  },
  {
   "cell_type": "code",
   "execution_count": 6,
   "id": "f52ed02e",
   "metadata": {
    "execution": {
     "iopub.execute_input": "2023-12-31T15:12:31.407169Z",
     "iopub.status.busy": "2023-12-31T15:12:31.406428Z",
     "iopub.status.idle": "2023-12-31T15:12:32.573485Z",
     "shell.execute_reply": "2023-12-31T15:12:32.571271Z"
    },
    "papermill": {
     "duration": 1.178703,
     "end_time": "2023-12-31T15:12:32.577155",
     "exception": false,
     "start_time": "2023-12-31T15:12:31.398452",
     "status": "completed"
    },
    "tags": []
   },
   "outputs": [
    {
     "name": "stdout",
     "output_type": "stream",
     "text": [
      "[LightGBM] [Warning] lambda_l1 is set=0, reg_alpha=0.0 will be ignored. Current value: lambda_l1=0\n",
      "[LightGBM] [Warning] min_data_in_leaf is set=100, min_child_samples=20 will be ignored. Current value: min_data_in_leaf=100\n",
      "[LightGBM] [Warning] lambda_l2 is set=0.5, reg_lambda=0.0 will be ignored. Current value: lambda_l2=0.5\n"
     ]
    },
    {
     "data": {
      "text/html": [
       "<style>#sk-container-id-1 {color: black;background-color: white;}#sk-container-id-1 pre{padding: 0;}#sk-container-id-1 div.sk-toggleable {background-color: white;}#sk-container-id-1 label.sk-toggleable__label {cursor: pointer;display: block;width: 100%;margin-bottom: 0;padding: 0.3em;box-sizing: border-box;text-align: center;}#sk-container-id-1 label.sk-toggleable__label-arrow:before {content: \"▸\";float: left;margin-right: 0.25em;color: #696969;}#sk-container-id-1 label.sk-toggleable__label-arrow:hover:before {color: black;}#sk-container-id-1 div.sk-estimator:hover label.sk-toggleable__label-arrow:before {color: black;}#sk-container-id-1 div.sk-toggleable__content {max-height: 0;max-width: 0;overflow: hidden;text-align: left;background-color: #f0f8ff;}#sk-container-id-1 div.sk-toggleable__content pre {margin: 0.2em;color: black;border-radius: 0.25em;background-color: #f0f8ff;}#sk-container-id-1 input.sk-toggleable__control:checked~div.sk-toggleable__content {max-height: 200px;max-width: 100%;overflow: auto;}#sk-container-id-1 input.sk-toggleable__control:checked~label.sk-toggleable__label-arrow:before {content: \"▾\";}#sk-container-id-1 div.sk-estimator input.sk-toggleable__control:checked~label.sk-toggleable__label {background-color: #d4ebff;}#sk-container-id-1 div.sk-label input.sk-toggleable__control:checked~label.sk-toggleable__label {background-color: #d4ebff;}#sk-container-id-1 input.sk-hidden--visually {border: 0;clip: rect(1px 1px 1px 1px);clip: rect(1px, 1px, 1px, 1px);height: 1px;margin: -1px;overflow: hidden;padding: 0;position: absolute;width: 1px;}#sk-container-id-1 div.sk-estimator {font-family: monospace;background-color: #f0f8ff;border: 1px dotted black;border-radius: 0.25em;box-sizing: border-box;margin-bottom: 0.5em;}#sk-container-id-1 div.sk-estimator:hover {background-color: #d4ebff;}#sk-container-id-1 div.sk-parallel-item::after {content: \"\";width: 100%;border-bottom: 1px solid gray;flex-grow: 1;}#sk-container-id-1 div.sk-label:hover label.sk-toggleable__label {background-color: #d4ebff;}#sk-container-id-1 div.sk-serial::before {content: \"\";position: absolute;border-left: 1px solid gray;box-sizing: border-box;top: 0;bottom: 0;left: 50%;z-index: 0;}#sk-container-id-1 div.sk-serial {display: flex;flex-direction: column;align-items: center;background-color: white;padding-right: 0.2em;padding-left: 0.2em;position: relative;}#sk-container-id-1 div.sk-item {position: relative;z-index: 1;}#sk-container-id-1 div.sk-parallel {display: flex;align-items: stretch;justify-content: center;background-color: white;position: relative;}#sk-container-id-1 div.sk-item::before, #sk-container-id-1 div.sk-parallel-item::before {content: \"\";position: absolute;border-left: 1px solid gray;box-sizing: border-box;top: 0;bottom: 0;left: 50%;z-index: -1;}#sk-container-id-1 div.sk-parallel-item {display: flex;flex-direction: column;z-index: 1;position: relative;background-color: white;}#sk-container-id-1 div.sk-parallel-item:first-child::after {align-self: flex-end;width: 50%;}#sk-container-id-1 div.sk-parallel-item:last-child::after {align-self: flex-start;width: 50%;}#sk-container-id-1 div.sk-parallel-item:only-child::after {width: 0;}#sk-container-id-1 div.sk-dashed-wrapped {border: 1px dashed gray;margin: 0 0.4em 0.5em 0.4em;box-sizing: border-box;padding-bottom: 0.4em;background-color: white;}#sk-container-id-1 div.sk-label label {font-family: monospace;font-weight: bold;display: inline-block;line-height: 1.2em;}#sk-container-id-1 div.sk-label-container {text-align: center;}#sk-container-id-1 div.sk-container {/* jupyter's `normalize.less` sets `[hidden] { display: none; }` but bootstrap.min.css set `[hidden] { display: none !important; }` so we also need the `!important` here to be able to override the default hidden behavior on the sphinx rendered scikit-learn.org. See: https://github.com/scikit-learn/scikit-learn/issues/21755 */display: inline-block !important;position: relative;}#sk-container-id-1 div.sk-text-repr-fallback {display: none;}</style><div id=\"sk-container-id-1\" class=\"sk-top-container\"><div class=\"sk-text-repr-fallback\"><pre>LGBMClassifier(lambda_l1=0, lambda_l2=0.5, min_data_in_leaf=100)</pre><b>In a Jupyter environment, please rerun this cell to show the HTML representation or trust the notebook. <br />On GitHub, the HTML representation is unable to render, please try loading this page with nbviewer.org.</b></div><div class=\"sk-container\" hidden><div class=\"sk-item\"><div class=\"sk-estimator sk-toggleable\"><input class=\"sk-toggleable__control sk-hidden--visually\" id=\"sk-estimator-id-1\" type=\"checkbox\" checked><label for=\"sk-estimator-id-1\" class=\"sk-toggleable__label sk-toggleable__label-arrow\">LGBMClassifier</label><div class=\"sk-toggleable__content\"><pre>LGBMClassifier(lambda_l1=0, lambda_l2=0.5, min_data_in_leaf=100)</pre></div></div></div></div></div>"
      ],
      "text/plain": [
       "LGBMClassifier(lambda_l1=0, lambda_l2=0.5, min_data_in_leaf=100)"
      ]
     },
     "execution_count": 6,
     "metadata": {},
     "output_type": "execute_result"
    }
   ],
   "source": [
    "best_params = {\n",
    "    'lambda_l1': 0,\n",
    "    'lambda_l2': 0.5,\n",
    "    'min_data_in_leaf': 100,\n",
    "    'num_leaves': 31\n",
    "    # Add any other parameters that you want to set\n",
    "}\n",
    "model = lgb.LGBMClassifier(**best_params)\n",
    "model.fit(X_train_transformed, y)"
   ]
  },
  {
   "cell_type": "markdown",
   "id": "1ef1ef08",
   "metadata": {
    "papermill": {
     "duration": 0.006811,
     "end_time": "2023-12-31T15:12:32.591458",
     "exception": false,
     "start_time": "2023-12-31T15:12:32.584647",
     "status": "completed"
    },
    "tags": []
   },
   "source": [
    "## Visualizing Feature Importance"
   ]
  },
  {
   "cell_type": "code",
   "execution_count": 7,
   "id": "abc9275c",
   "metadata": {
    "execution": {
     "iopub.execute_input": "2023-12-31T15:12:32.607095Z",
     "iopub.status.busy": "2023-12-31T15:12:32.606667Z",
     "iopub.status.idle": "2023-12-31T15:12:33.780405Z",
     "shell.execute_reply": "2023-12-31T15:12:33.779344Z"
    },
    "papermill": {
     "duration": 1.185015,
     "end_time": "2023-12-31T15:12:33.783413",
     "exception": false,
     "start_time": "2023-12-31T15:12:32.598398",
     "status": "completed"
    },
    "tags": []
   },
   "outputs": [
    {
     "data": {
      "image/png": "[encoded data removed]",
      "text/plain": [
       "<Figure size 1000x800 with 1 Axes>"
      ]
     },
     "metadata": {},
     "output_type": "display_data"
    }
   ],
   "source": [
    "import matplotlib.pyplot as plt\n",
    "import seaborn as sns\n",
    "\n",
    "# Obtain split feature importance\n",
    "split_importance = model.feature_importances_\n",
    "\n",
    "# Display feature importance with feature names\n",
    "split_importance_df = pd.DataFrame({'Feature': feature_names, 'Split': split_importance})\n",
    "\n",
    "# Sort the DataFrame by importance\n",
    "split_importance_df_sorted = split_importance_df.sort_values(by='Split', ascending=False)\n",
    "\n",
    "plt.figure(figsize=(10, 8))  # Set the figure size\n",
    "sns.barplot(x=\"Split\", y=\"Feature\", data=split_importance_df_sorted)\n",
    "\n",
    "plt.title('Feature Importances')  # Add a title\n",
    "plt.xlabel('Importance')  # X-axis Label\n",
    "plt.ylabel('Features')  # Y-axis Label\n",
    "\n",
    "# Optional: Add gridlines and tweak aesthetics\n",
    "sns.set(style=\"whitegrid\")\n",
    "plt.tight_layout()\n",
    "\n",
    "# Show the plot\n",
    "plt.show()"
   ]
  },
  {
   "cell_type": "markdown",
   "id": "65d0b5b7",
   "metadata": {
    "papermill": {
     "duration": 0.007764,
     "end_time": "2023-12-31T15:12:33.799331",
     "exception": false,
     "start_time": "2023-12-31T15:12:33.791567",
     "status": "completed"
    },
    "tags": []
   },
   "source": [
    "#### The top 3 features with the largest feature importance measured by 'split' are engineered features. \n",
    "#### As you can see with the top 3 highest features being 1. *bmi* (838) 2. *ln_age* (778) 3. *ln_age_bP* (501)\n",
    "\n",
    "#### *gender_2*, *alc_smoke_1*, *active_1* had feature importance of 0. Since they are binary anyways, they did not have to be one-hot encoded. This is my fault. But at least it verifies it works as expected "
   ]
  },
  {
   "cell_type": "code",
   "execution_count": 8,
   "id": "c2f02e7b",
   "metadata": {
    "execution": {
     "iopub.execute_input": "2023-12-31T15:12:33.818392Z",
     "iopub.status.busy": "2023-12-31T15:12:33.817971Z",
     "iopub.status.idle": "2023-12-31T15:12:33.833901Z",
     "shell.execute_reply": "2023-12-31T15:12:33.832825Z"
    },
    "papermill": {
     "duration": 0.028231,
     "end_time": "2023-12-31T15:12:33.836281",
     "exception": false,
     "start_time": "2023-12-31T15:12:33.808050",
     "status": "completed"
    },
    "tags": []
   },
   "outputs": [
    {
     "data": {
      "text/html": [
       "<div>\n",
       "<style scoped>\n",
       "    .dataframe tbody tr th:only-of-type {\n",
       "        vertical-align: middle;\n",
       "    }\n",
       "\n",
       "    .dataframe tbody tr th {\n",
       "        vertical-align: top;\n",
       "    }\n",
       "\n",
       "    .dataframe thead th {\n",
       "        text-align: right;\n",
       "    }\n",
       "</style>\n",
       "<table border=\"1\" class=\"dataframe\">\n",
       "  <thead>\n",
       "    <tr style=\"text-align: right;\">\n",
       "      <th></th>\n",
       "      <th>Feature</th>\n",
       "      <th>Split</th>\n",
       "    </tr>\n",
       "  </thead>\n",
       "  <tbody>\n",
       "    <tr>\n",
       "      <th>25</th>\n",
       "      <td>bmi</td>\n",
       "      <td>838</td>\n",
       "    </tr>\n",
       "    <tr>\n",
       "      <th>26</th>\n",
       "      <td>ln_age</td>\n",
       "      <td>778</td>\n",
       "    </tr>\n",
       "    <tr>\n",
       "      <th>27</th>\n",
       "      <td>ln_age_bP</td>\n",
       "      <td>501</td>\n",
       "    </tr>\n",
       "    <tr>\n",
       "      <th>24</th>\n",
       "      <td>ap_lo</td>\n",
       "      <td>162</td>\n",
       "    </tr>\n",
       "    <tr>\n",
       "      <th>23</th>\n",
       "      <td>ap_hi</td>\n",
       "      <td>119</td>\n",
       "    </tr>\n",
       "  </tbody>\n",
       "</table>\n",
       "</div>"
      ],
      "text/plain": [
       "      Feature  Split\n",
       "25        bmi    838\n",
       "26     ln_age    778\n",
       "27  ln_age_bP    501\n",
       "24      ap_lo    162\n",
       "23      ap_hi    119"
      ]
     },
     "execution_count": 8,
     "metadata": {},
     "output_type": "execute_result"
    }
   ],
   "source": [
    "split_importance_df_sorted.head()"
   ]
  },
  {
   "cell_type": "markdown",
   "id": "f9b77c63",
   "metadata": {
    "papermill": {
     "duration": 0.00804,
     "end_time": "2023-12-31T15:12:33.852762",
     "exception": false,
     "start_time": "2023-12-31T15:12:33.844722",
     "status": "completed"
    },
    "tags": []
   },
   "source": [
    "## Generate Predictions"
   ]
  },
  {
   "cell_type": "code",
   "execution_count": 9,
   "id": "b93acba8",
   "metadata": {
    "execution": {
     "iopub.execute_input": "2023-12-31T15:12:33.871136Z",
     "iopub.status.busy": "2023-12-31T15:12:33.870708Z",
     "iopub.status.idle": "2023-12-31T15:12:34.551731Z",
     "shell.execute_reply": "2023-12-31T15:12:34.550620Z"
    },
    "papermill": {
     "duration": 0.69345,
     "end_time": "2023-12-31T15:12:34.554456",
     "exception": false,
     "start_time": "2023-12-31T15:12:33.861006",
     "status": "completed"
    },
    "tags": []
   },
   "outputs": [],
   "source": [
    "test = engineer_features(test)\n",
    "test = drop_original_features(test)\n",
    "\n",
    "# List of categorical and continuous feature\n",
    "categorical_features = ['gender', 'cholesterol', 'active', 'chol_gluc', 'htn', 'htn_smoke', 'alc_smoke']\n",
    "continuous_features = ['ap_hi', 'ap_lo', 'bmi', 'ln_age', 'ln_age_bP']\n",
    "\n",
    "# Build the preprocessing pipeline\n",
    "preprocessing = ColumnTransformer(\n",
    "    transformers=[\n",
    "        ('cat', OneHotEncoder(), categorical_features),\n",
    "        ('cont', StandardScaler(), continuous_features)\n",
    "    ],\n",
    "    remainder='passthrough'  # keep other features unchanged\n",
    ")\n",
    "\n",
    "# Apply transformations\n",
    "X_processed_test = preprocessing.fit_transform(test)\n",
    "\n",
    "predictions = model.predict(X_processed_test)"
   ]
  },
  {
   "cell_type": "markdown",
   "id": "c8650e34",
   "metadata": {
    "papermill": {
     "duration": 0.00815,
     "end_time": "2023-12-31T15:12:34.571168",
     "exception": false,
     "start_time": "2023-12-31T15:12:34.563018",
     "status": "completed"
    },
    "tags": []
   },
   "source": [
    "## Create Submission"
   ]
  },
  {
   "cell_type": "code",
   "execution_count": 10,
   "id": "1d746f11",
   "metadata": {
    "execution": {
     "iopub.execute_input": "2023-12-31T15:12:34.590557Z",
     "iopub.status.busy": "2023-12-31T15:12:34.590134Z",
     "iopub.status.idle": "2023-12-31T15:12:34.646550Z",
     "shell.execute_reply": "2023-12-31T15:12:34.645315Z"
    },
    "papermill": {
     "duration": 0.06935,
     "end_time": "2023-12-31T15:12:34.648842",
     "exception": false,
     "start_time": "2023-12-31T15:12:34.579492",
     "status": "completed"
    },
    "tags": []
   },
   "outputs": [
    {
     "name": "stdout",
     "output_type": "stream",
     "text": [
      "Submitted Successfully\n"
     ]
    }
   ],
   "source": [
    "submit = pd.DataFrame({'id':submission['id'], 'cardio':predictions})\n",
    "\n",
    "submit.to_csv('./predictions_drop_ext_vis.csv',index=False)\n",
    "print('Submitted Successfully')"
   ]
  },
  {
   "cell_type": "markdown",
   "id": "e090ba93",
   "metadata": {
    "papermill": {
     "duration": 0.007991,
     "end_time": "2023-12-31T15:12:34.665834",
     "exception": false,
     "start_time": "2023-12-31T15:12:34.657843",
     "status": "completed"
    },
    "tags": []
   },
   "source": [
    "## Discussions\n",
    "\n",
    "#### **How to further improve the prediction accuracy?** Removing confounders, reducing multicolinearities, check for domain shifts between train and test dataset\n",
    "\n",
    "#### **Clinical Implications** Many more interaction terms could have been explored. But how many and why? What do they mean? \n",
    "\n",
    "#### **Why LGBM?** It's actually first time using LGBM for me. I saw Lonnie's Notebook and LGBM sounded super cool (with high score). Also, after quick search LGBM is faster than XGBoost, then why not exploit GridSearchCV to optimize hyperparameters? \n",
    "\n",
    "#### **So how effective was feature engineering?** More extended experiments can be throughly done to directly examine added contribution of engineered features and/or removing original features. It is not extensively investigated as my model merely would have benefited from the GridSearch and StratifiedKFold, rather than new features.  \n",
    "\n",
    "## Happy new year everyone, wish you all have a wonderful year ahead of you"
   ]
  }
 ],
 "metadata": {
  "kaggle": {
   "accelerator": "none",
   "dataSources": [
    {
     "databundleVersionId": 7351352,
     "sourceId": 66591,
     "sourceType": "competition"
    }
   ],
   "dockerImageVersionId": 30626,
   "isGpuEnabled": false,
   "isInternetEnabled": true,
   "language": "python",
   "sourceType": "notebook"
  },
  "kernelspec": {
   "display_name": "Python 3.8.8 64-bit",
   "language": "python",
   "name": "python3"
  },
  "language_info": {
   "codemirror_mode": {
    "name": "ipython",
    "version": 3
   },
   "file_extension": ".py",
   "mimetype": "text/x-python",
   "name": "python",
   "nbconvert_exporter": "python",
   "pygments_lexer": "ipython3",
   "version": "3.8.8"
  },
  "papermill": {
   "default_parameters": {},
   "duration": 12.396727,
   "end_time": "2023-12-31T15:12:35.396023",
   "environment_variables": {},
   "exception": null,
   "input_path": "__notebook__.ipynb",
   "output_path": "__notebook__.ipynb",
   "parameters": {},
   "start_time": "2023-12-31T15:12:22.999296",
   "version": "2.4.0"
  },
  "vscode": {
   "interpreter": {
    "hash": "63b6a646516de8e414d13b75a5a5c62f01425af962db1c33a9d70fb42e68a651"
   }
  }
 },
 "nbformat": 4,
 "nbformat_minor": 5
}
